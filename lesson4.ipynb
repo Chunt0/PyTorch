{
 "cells": [
  {
   "cell_type": "markdown",
   "metadata": {},
   "source": [
    "# Computer Vision and CNN's!\n",
    "\n",
    "If you can see it, it can probably be turned into a computer vision problem\n",
    "\n",
    "* Classification\n",
    "* Object Detection\n",
    "* Segmentation (Computational photography) `On-device Panoptic Segmentation for Camera Using Transformers` - Apple Machine Learning Research\n",
    "* Tesla 8 cameras -> 3D 'Vector Space'\n",
    "* DensePose\n",
    "\n",
    "| PyTorch module | What does it do? |\n",
    "| ----- | ----- |\n",
    "| [`torchvision`](https://pytorch.org/vision/stable/index.html) | Contains datasets, model architectures and image transformations often used for computer vision problems. |\n",
    "| [`torchvision.datasets`](https://pytorch.org/vision/stable/datasets.html) | Here you'll find many example computer vision datasets for a range of problems from image classification, object detection, image captioning, video classification and more. It also contains [a series of base classes for making custom datasets](https://pytorch.org/vision/stable/datasets.html#base-classes-for-custom-datasets). |\n",
    "| [`torchvision.models`](https://pytorch.org/vision/stable/models.html) | This module contains well-performing and commonly used computer vision model architectures implemented in PyTorch, you can use these with your own problems. | \n",
    "| [`torchvision.transforms`](https://pytorch.org/vision/stable/transforms.html) | Often images need to be transformed (turned into numbers/processed/augmented) before being used with a model, common image transformations are found here. | \n",
    "| [`torch.utils.data.Dataset`](https://pytorch.org/docs/stable/data.html#torch.utils.data.Dataset) | Base dataset class for PyTorch.  | \n",
    "| [`torch.utils.data.DataLoader`](https://pytorch.org/docs/stable/data.html#module-torch.utils.data) | Creates a Python iteralbe over a dataset (created with `torch.utils.data.Dataset`). \n",
    "\n",
    "## What is a Convolutional Neural Network?\n",
    "### Architecture of a CNN\n",
    "| Hyperparameter/Layer Type | What does it do? | Typical Values|\n",
    "| ------ | ------ | -------|\n",
    "| Input Image(s) | Target images you'd like to discover patterns in | Whatever you can take a photo (or video) of. |\n",
    "| Input Layer | Takes in target images and preprocesses them for further layers | input_shape = [batch_size, img_height, img_width, color_channels] (channels last) or input_shape = [batch_size, color_channels, img_height, img_width] (channels first) |\n",
    "| Convolution Layer | Exctracts/learns the most important faetures from target images | Multiple, can create with torch.nnConvXd() |\n",
    "| Hidden activation/non-linear activation | Adds non-linearity to learned features | Usually ReLU |\n",
    "| Pooling Layer | Reduces the dimensionality of learned image features | Max (torn.nn.MaxPool2d()) or Average (torhc.nn.AvgPool2d()) |\n",
    "| Output Layer/Linear Layer | Takes learned features and outputs them in shape of target labels | torch.nn.Linear() |\n",
    "| Output activation | Converts out put logits to prediction probabilities | torhc.sigmoid() for bianry classification or torch.softmax() for multi-class classification |\n"
   ]
  },
  {
   "cell_type": "markdown",
   "metadata": {},
   "source": [
    "### PyTorch Computer Vision\n",
    "\n",
    "Vision Libraries in PyTorch\n",
    "* [`torchvision`] - base domain library for PyTorch computer vision\n",
    "* [`torchvision.datasets`] - get datasets and data loading functions for computer vision here\n",
    "* [`torchvision.models`] - get pretrained computer vision models that you can leverage for your own problems\n",
    "* [`torchvision.transforms`] - functions for manipulating yourvision data to bhe suitable for use with PyTorch\n",
    "* [`torch.utils.data.Dataset`] - Base dataset class for PyTorch\n",
    "* [`torch.utils.data.DataLoader`] - Creats a Python iterable over a dataset"
   ]
  },
  {
   "cell_type": "code",
   "execution_count": 2,
   "metadata": {},
   "outputs": [
    {
     "name": "stderr",
     "output_type": "stream",
     "text": [
      "/home/chunt/.local/lib/python3.10/site-packages/tqdm/auto.py:21: TqdmWarning: IProgress not found. Please update jupyter and ipywidgets. See https://ipywidgets.readthedocs.io/en/stable/user_install.html\n",
      "  from .autonotebook import tqdm as notebook_tqdm\n"
     ]
    },
    {
     "name": "stdout",
     "output_type": "stream",
     "text": [
      "2.0.1+cu117\n",
      "0.15.2+cu117\n"
     ]
    },
    {
     "data": {
      "text/plain": [
       "device(type='cpu')"
      ]
     },
     "execution_count": 2,
     "metadata": {},
     "output_type": "execute_result"
    }
   ],
   "source": [
    "import torch\n",
    "from torch import nn \n",
    "import matplotlib.pyplot as plt\n",
    "import numpy as np\n",
    "import torchvision\n",
    "from torchvision import datasets\n",
    "from torchvision.transforms import ToTensor\n",
    "from torchmetrics import Accuracy\n",
    "\n",
    "RAND_SEED = 2697\n",
    "LR = 1e-3\n",
    "EPOCHS = 0\n",
    "\n",
    "device = torch.device(\"cpu\")\n",
    "\n",
    "print(torch.__version__)\n",
    "print(torchvision.__version__)\n",
    "\n",
    "device"
   ]
  },
  {
   "cell_type": "markdown",
   "metadata": {},
   "source": [
    "### 1. Getting a dataset\n",
    "\n",
    "This project will develop a multi-class classification model that takes the FashionMNIST dataset and trains a CNN to recognize what type of clothing is being displayed.\n",
    "\n",
    "FashionMNIST is located in torch.datasets\n",
    "\n",
    "So you download the dataset and then wrap it into a dataloader.\n"
   ]
  },
  {
   "cell_type": "code",
   "execution_count": 3,
   "metadata": {},
   "outputs": [
    {
     "name": "stdout",
     "output_type": "stream",
     "text": [
      "Downloading http://fashion-mnist.s3-website.eu-central-1.amazonaws.com/train-images-idx3-ubyte.gz\n",
      "Downloading http://fashion-mnist.s3-website.eu-central-1.amazonaws.com/train-images-idx3-ubyte.gz to data/FashionMNIST/raw/train-images-idx3-ubyte.gz\n"
     ]
    },
    {
     "name": "stderr",
     "output_type": "stream",
     "text": [
      "100%|██████████| 26421880/26421880 [01:27<00:00, 301635.44it/s]\n"
     ]
    },
    {
     "name": "stdout",
     "output_type": "stream",
     "text": [
      "Extracting data/FashionMNIST/raw/train-images-idx3-ubyte.gz to data/FashionMNIST/raw\n",
      "\n",
      "Downloading http://fashion-mnist.s3-website.eu-central-1.amazonaws.com/train-labels-idx1-ubyte.gz\n",
      "Downloading http://fashion-mnist.s3-website.eu-central-1.amazonaws.com/train-labels-idx1-ubyte.gz to data/FashionMNIST/raw/train-labels-idx1-ubyte.gz\n"
     ]
    },
    {
     "name": "stderr",
     "output_type": "stream",
     "text": [
      "100%|██████████| 29515/29515 [00:00<00:00, 144642.66it/s]\n"
     ]
    },
    {
     "name": "stdout",
     "output_type": "stream",
     "text": [
      "Extracting data/FashionMNIST/raw/train-labels-idx1-ubyte.gz to data/FashionMNIST/raw\n",
      "\n",
      "Downloading http://fashion-mnist.s3-website.eu-central-1.amazonaws.com/t10k-images-idx3-ubyte.gz\n",
      "Downloading http://fashion-mnist.s3-website.eu-central-1.amazonaws.com/t10k-images-idx3-ubyte.gz to data/FashionMNIST/raw/t10k-images-idx3-ubyte.gz\n"
     ]
    },
    {
     "name": "stderr",
     "output_type": "stream",
     "text": [
      "100%|██████████| 4422102/4422102 [00:14<00:00, 298018.25it/s]\n"
     ]
    },
    {
     "name": "stdout",
     "output_type": "stream",
     "text": [
      "Extracting data/FashionMNIST/raw/t10k-images-idx3-ubyte.gz to data/FashionMNIST/raw\n",
      "\n",
      "Downloading http://fashion-mnist.s3-website.eu-central-1.amazonaws.com/t10k-labels-idx1-ubyte.gz\n",
      "Downloading http://fashion-mnist.s3-website.eu-central-1.amazonaws.com/t10k-labels-idx1-ubyte.gz to data/FashionMNIST/raw/t10k-labels-idx1-ubyte.gz\n"
     ]
    },
    {
     "name": "stderr",
     "output_type": "stream",
     "text": [
      "100%|██████████| 5148/5148 [00:00<00:00, 19193135.10it/s]"
     ]
    },
    {
     "name": "stdout",
     "output_type": "stream",
     "text": [
      "Extracting data/FashionMNIST/raw/t10k-labels-idx1-ubyte.gz to data/FashionMNIST/raw\n",
      "\n"
     ]
    },
    {
     "name": "stderr",
     "output_type": "stream",
     "text": [
      "\n"
     ]
    }
   ],
   "source": [
    "train_dataset = datasets.FashionMNIST(root=\"data\",\n",
    "                                      train=True,\n",
    "                                      download=True,\n",
    "                                      transform=ToTensor(),\n",
    "                                      target_transform=None)\n",
    "test_dataset = datasets.FashionMNIST(root=\"data\",\n",
    "                                     train=False,\n",
    "                                     download=True,\n",
    "                                     transform=ToTensor(),\n",
    "                                     target_transform=None)\n"
   ]
  },
  {
   "cell_type": "code",
   "execution_count": 4,
   "metadata": {},
   "outputs": [
    {
     "name": "stdout",
     "output_type": "stream",
     "text": [
      "data[0].shape: torch.Size([28, 28])\n",
      "Target : Ankle boot\n"
     ]
    },
    {
     "data": {
      "image/png": "[encoded data removed]",
      "text/plain": [
       "<Figure size 640x480 with 1 Axes>"
      ]
     },
     "metadata": {},
     "output_type": "display_data"
    }
   ],
   "source": [
    "# Now visualize our images!! Become one with the data\n",
    "\n",
    "data = train_dataset.data\n",
    "targets = train_dataset.targets\n",
    "\n",
    "print(f\"data[0].shape: {data[0].shape}\")\n",
    "print(f\"Target : {train_dataset.classes[targets[0]]}\")\n",
    "\n",
    "image, labe = train_dataset[0]\n",
    "plt.imshow(image.squeeze(), cmap=\"gray\")\n",
    "plt.title(train_dataset.classes[targets[0]])\n",
    "plt.axis(False);\n"
   ]
  },
  {
   "cell_type": "code",
   "execution_count": 5,
   "metadata": {},
   "outputs": [
    {
     "data": {
      "image/png": "[encoded data removed]",
      "text/plain": [
       "<Figure size 1000x1000 with 16 Axes>"
      ]
     },
     "metadata": {},
     "output_type": "display_data"
    }
   ],
   "source": [
    "# Let's plot more images\n",
    "torch.manual_seed(RAND_SEED)\n",
    "class_names = train_dataset.classes\n",
    "fig = plt.figure(figsize=(10,10))\n",
    "rows, cols = 4, 4\n",
    "for i in range(1, rows*cols+1):\n",
    "    random_idx = torch.randint(0, len(train_dataset), size=[1]).item()\n",
    "    img, label = train_dataset[random_idx]\n",
    "    fig.add_subplot(rows,cols,i)\n",
    "    plt.imshow(img.squeeze(), cmap=\"gray\")\n",
    "    plt.title(class_names[label])\n",
    "    plt.axis(False);\n"
   ]
  },
  {
   "cell_type": "markdown",
   "metadata": {},
   "source": [
    "### DataLoad\n",
    "\n",
    "The data is a pytorch dataset object\n",
    "\n",
    "DataLoader turns it into a Python iterable.\n",
    "\n",
    "This will allow us to turn out data into minibates\n",
    "\n",
    "Why?\n",
    "* More computationally efficient. You can optimize this with respect to the GPU memory\n",
    "* Andrew Ng - minibatch gradient descent\n"
   ]
  },
  {
   "cell_type": "code",
   "execution_count": 6,
   "metadata": {},
   "outputs": [],
   "source": [
    "# Prepare dataloader!\n",
    "from torch.utils.data import DataLoader\n",
    "\n",
    "BS = 32\n",
    "\n",
    "train_dl = DataLoader(dataset=train_dataset,\n",
    "                      batch_size=BS,\n",
    "                      shuffle=True,\n",
    "                      )\n",
    "test_dl = DataLoader(dataset=test_dataset,\n",
    "                     batch_size=BS,\n",
    "                     shuffle=False)\n",
    "\n",
    "train_features_batch, train_labels_batch = next(iter(train_dl))"
   ]
  },
  {
   "cell_type": "code",
   "execution_count": 7,
   "metadata": {},
   "outputs": [
    {
     "data": {
      "image/png": "[encoded data removed]",
      "text/plain": [
       "<Figure size 640x480 with 1 Axes>"
      ]
     },
     "metadata": {},
     "output_type": "display_data"
    }
   ],
   "source": [
    "# Check out what is inside the dataloaded data\n",
    "#torch.manual_seed(RAND_SEED)\n",
    "rand_idx = torch.randint(0, len(train_features_batch), size=[1]).item()\n",
    "img, label = train_features_batch[rand_idx], train_labels_batch[rand_idx]\n",
    "plt.imshow(img.squeeze(), cmap=\"gray\")\n",
    "plt.title(class_names[label])\n",
    "plt.axis(False);"
   ]
  },
  {
   "cell_type": "markdown",
   "metadata": {},
   "source": [
    "### Model 0: Build a baseline model\n",
    "\n",
    "When starting to build a series of ML modelling experiments, it's best practice to start with a baseline model\n",
    "\n",
    "This model will then be tweeked to find improvements and experiment between hyperparams"
   ]
  },
  {
   "cell_type": "code",
   "execution_count": 8,
   "metadata": {},
   "outputs": [
    {
     "name": "stdout",
     "output_type": "stream",
     "text": [
      "x.shape: torch.Size([1, 28, 28])\n",
      "output.shape: torch.Size([1, 784])\n"
     ]
    }
   ],
   "source": [
    "# Create a flatten layer\n",
    "flatten_model = nn.Flatten()\n",
    "\n",
    "x = train_features_batch[0]\n",
    "\n",
    "output = flatten_model(x)\n",
    "\n",
    "print(f\"x.shape: {x.shape}\")\n",
    "print(f\"output.shape: {output.shape}\")\n"
   ]
  },
  {
   "cell_type": "code",
   "execution_count": 9,
   "metadata": {},
   "outputs": [],
   "source": [
    "class FashMNISTV0(nn.Module):\n",
    "    def __init__(self,\n",
    "                 in_shape: int,\n",
    "                 hidden_units: int,\n",
    "                 out_shape: int,\n",
    "                 device: torch.device ) -> None:\n",
    "        super().__init__()\n",
    "        self.layer_stack = nn.Sequential(nn.Flatten(),\n",
    "                                         nn.Linear(in_features=in_shape, out_features=hidden_units),\n",
    "                                         nn.ReLU(),\n",
    "                                         nn.Linear(in_features=hidden_units, out_features=hidden_units),\n",
    "                                         nn.ReLU(),\n",
    "                                         nn.Linear(in_features=hidden_units, out_features=out_shape)).to(device)\n",
    "    def forward(self, x):\n",
    "        return self.layer_stack(x)\n",
    "    \n",
    "torch.manual_seed(RAND_SEED)\n",
    "model0 = FashMNISTV0(in_shape=784,\n",
    "                     hidden_units=512,\n",
    "                     out_shape=10,\n",
    "                     device=device)\n"
   ]
  },
  {
   "cell_type": "code",
   "execution_count": 10,
   "metadata": {},
   "outputs": [],
   "source": [
    "from helper_functions import accuracy_fn\n",
    "# Set up loss function, optimizer, and evaluation metrics\n",
    "\n",
    "# Since we are making a multiclass classification model we will use cross entropy loss\n",
    "loss_fn = nn.CrossEntropyLoss()\n",
    "\n",
    "optim = torch.optim.AdamW(params=model0.parameters(), lr=LR)\n",
    "\n"
   ]
  },
  {
   "cell_type": "markdown",
   "metadata": {},
   "source": [
    "#### Progress bar!\n",
    "The package tqdm contains python tools for displaying progress bars"
   ]
  },
  {
   "cell_type": "code",
   "execution_count": 11,
   "metadata": {},
   "outputs": [
    {
     "name": "stderr",
     "output_type": "stream",
     "text": [
      "0it [00:00, ?it/s]"
     ]
    },
    {
     "name": "stdout",
     "output_type": "stream",
     "text": [
      "\n",
      "Train time on cpu: 0.003 seconds\n"
     ]
    },
    {
     "name": "stderr",
     "output_type": "stream",
     "text": [
      "\n"
     ]
    }
   ],
   "source": [
    "from helper_functions import print_train_time\n",
    "from timeit import default_timer as timer\n",
    "from tqdm.auto import tqdm\n",
    "\n",
    "# Set the see and start the timer\n",
    "\n",
    "torch.manual_seed(RAND_SEED)\n",
    "train_time_start = timer()\n",
    "\n",
    "epochs = EPOCHS\n",
    "for epoch in tqdm(range(epochs)):\n",
    "    print(f\"Epoch: {epoch}\\n-------------\")\n",
    "\n",
    "    ### Training\n",
    "    train_loss = 0\n",
    "    # Add a loop to loop through the training batches\n",
    "    for batch, (X,y) in enumerate(train_dl):\n",
    "        model0.train()\n",
    "        # Forward Pass\n",
    "        train_pred = model0(X)\n",
    "        # Calculate the loss\n",
    "        loss = loss_fn(train_pred, y)\n",
    "        train_loss += loss\n",
    "        # Optimize the zero grad\n",
    "        optim.zero_grad()\n",
    "        # Loss Backward\n",
    "        loss.backward()\n",
    "        # Optimizer step\n",
    "        optim.step()\n",
    "        # Print out what's happening\n",
    "        if batch % 400 == 0:\n",
    "            print(f\"Looked at {batch * len(X)}/{len(train_dl.dataset)} samples.\")\n",
    "    # Divide total train loss by length of train_dl\n",
    "    train_loss /= len(train_dl)\n",
    "\n",
    "    ### Testing\n",
    "    test_loss, test_acc = 0, 0\n",
    "    model0.eval()\n",
    "    with torch.inference_mode():\n",
    "        for X,y in test_dl:\n",
    "            # Forward pass\n",
    "            test_pred = model0(X)\n",
    "            # Calculate the loss\n",
    "            test_loss += loss_fn(test_pred, y)\n",
    "            test_acc += accuracy_fn(y, test_pred.argmax(dim=1))\n",
    "        # Calculate the test loss\n",
    "        test_loss /= len(test_dl)\n",
    "        # Calculate the test acc\n",
    "        test_acc /= len(test_dl)\n",
    "    # Print out what's happening\n",
    "    print(f\"\\nTrain Loss: {train_loss:.4f} | Test Loss: {test_loss:.4f}, Test Acc: {test_acc:.4f}\\nDevice: {device}\\n\")\n",
    "\n",
    "train_time_end = timer()\n",
    "total_train_time = print_train_time(start=train_time_start, end=train_time_end, device =device)\n"
   ]
  },
  {
   "cell_type": "code",
   "execution_count": 12,
   "metadata": {},
   "outputs": [
    {
     "name": "stderr",
     "output_type": "stream",
     "text": [
      "0it [00:00, ?it/s]"
     ]
    },
    {
     "name": "stdout",
     "output_type": "stream",
     "text": [
      "\n",
      "Train time on Parameter containing:\n",
      "tensor([[-0.0304,  0.0045, -0.0311,  ...,  0.0276,  0.0149,  0.0145],\n",
      "        [ 0.0200, -0.0323,  0.0318,  ..., -0.0225,  0.0031, -0.0242],\n",
      "        [ 0.0289, -0.0103, -0.0308,  ...,  0.0010, -0.0345, -0.0067],\n",
      "        ...,\n",
      "        [-0.0025,  0.0349, -0.0196,  ..., -0.0357, -0.0112,  0.0299],\n",
      "        [-0.0103,  0.0142, -0.0326,  ..., -0.0182,  0.0132,  0.0295],\n",
      "        [ 0.0043,  0.0085,  0.0121,  ..., -0.0246,  0.0318, -0.0209]],\n",
      "       requires_grad=True): 0.002 seconds\n"
     ]
    },
    {
     "name": "stderr",
     "output_type": "stream",
     "text": [
      "\n"
     ]
    }
   ],
   "source": [
    "from helper_functions import print_train_time\n",
    "from timeit import default_timer as timer\n",
    "from tqdm.auto import tqdm\n",
    "\n",
    "# Set the see and start the timer\n",
    "\n",
    "\n",
    "device = torch.device(\"cuda\" if torch.cuda.is_available() else \"cpu\")\n",
    "\n",
    "torch.manual_seed(RAND_SEED)\n",
    "train_time_start = timer()\n",
    "\n",
    "epochs = EPOCHS \n",
    "for epoch in tqdm(range(epochs)):\n",
    "    print(f\"Epoch: {epoch}\\n-------------\")\n",
    "\n",
    "    ### Training\n",
    "    train_loss = 0\n",
    "    # Add a loop to loop through the training batches\n",
    "    for batch, (X,y) in enumerate(train_dl):\n",
    "        X.to(device)\n",
    "        y.to(device)\n",
    "        model0.train()\n",
    "        # Forward Pass\n",
    "        train_pred = model0(X)\n",
    "        # Calculate the loss\n",
    "        loss = loss_fn(train_pred, y)\n",
    "        train_loss += loss\n",
    "        # Optimize the zero grad\n",
    "        optim.zero_grad()\n",
    "        # Loss Backward\n",
    "        loss.backward()\n",
    "        # Optimizer step\n",
    "        optim.step()\n",
    "        # Print out what's happening\n",
    "        if batch % 400 == 0:\n",
    "            print(f\"Looked at {batch * len(X)}/{len(train_dl.dataset)} samples.\")\n",
    "    # Divide total train loss by length of train_dl\n",
    "    train_loss /= len(train_dl)\n",
    "\n",
    "    ### Testing\n",
    "    test_loss, test_acc = 0, 0\n",
    "    model0.eval()\n",
    "    with torch.inference_mode():\n",
    "        for X,y in test_dl:\n",
    "            # Forward pass\n",
    "            X.to(device)\n",
    "            y.to(device)\n",
    "            test_pred = model0(X)\n",
    "            # Calculate the loss\n",
    "            test_loss += loss_fn(test_pred, y)\n",
    "            test_acc += accuracy_fn(y, test_pred.argmax(dim=1))\n",
    "        # Calculate the test loss\n",
    "        test_loss /= len(test_dl)\n",
    "        # Calculate the test acc\n",
    "        test_acc /= len(test_dl)\n",
    "    # Print out what's happening\n",
    "    print(f\"\\nTrain Loss: {train_loss:.4f} | Test Loss: {test_loss:.4f}, Test Acc: {test_acc:.4f}\\nDevice: {device}\\n\")\n",
    "\n",
    "train_time_end = timer()\n",
    "total_train_time = print_train_time(start=train_time_start, end=train_time_end, device = (next(model0.parameters())))"
   ]
  },
  {
   "cell_type": "code",
   "execution_count": 13,
   "metadata": {},
   "outputs": [
    {
     "name": "stderr",
     "output_type": "stream",
     "text": [
      "100%|██████████| 313/313 [00:01<00:00, 219.66it/s]\n"
     ]
    },
    {
     "data": {
      "text/plain": [
       "{'model_name': 'FashMNISTV0',\n",
       " 'model_loss': 2.3113107681274414,\n",
       " 'model_acc': 7.178514376996805}"
      ]
     },
     "execution_count": 13,
     "metadata": {},
     "output_type": "execute_result"
    }
   ],
   "source": [
    "torch.manual_seed(42)\n",
    "def eval_model(model: torch.nn.Module, \n",
    "               data_loader: torch.utils.data.DataLoader, \n",
    "               loss_fn: torch.nn.Module, \n",
    "               accuracy_fn,\n",
    "               device):\n",
    "    \"\"\"Returns a dictionary containing the results of model predicting on data_loader.\n",
    "\n",
    "    Args:\n",
    "        model (torch.nn.Module): A PyTorch model capable of making predictions on data_loader.\n",
    "        data_loader (torch.utils.data.DataLoader): The target dataset to predict on.\n",
    "        loss_fn (torch.nn.Module): The loss function of model.\n",
    "        accuracy_fn: An accuracy function to compare the models predictions to the truth labels.\n",
    "\n",
    "    Returns:\n",
    "        (dict): Results of model making predictions on data_loader.\n",
    "    \"\"\"\n",
    "    model.to(device)\n",
    "    loss, acc = 0, 0\n",
    "    model.eval()\n",
    "    with torch.inference_mode():\n",
    "        for X, y in tqdm(data_loader):\n",
    "            X, y = X.to(device), y.to(device)\n",
    "            # Make predictions with the model\n",
    "            y_pred = model(X)\n",
    "            \n",
    "            # Accumulate the loss and accuracy values per batch\n",
    "            loss += loss_fn(y_pred, y)\n",
    "            acc += accuracy_fn(y_true=y, \n",
    "                                y_pred=y_pred.argmax(dim=1)) # For accuracy, need the prediction labels (logits -> pred_prob -> pred_labels)\n",
    "        \n",
    "        # Scale loss and acc to find the average loss/acc per batch\n",
    "        loss /= len(data_loader)\n",
    "        acc /= len(data_loader)\n",
    "        \n",
    "    return {\"model_name\": model.__class__.__name__, # only works when model was created with a class\n",
    "            \"model_loss\": loss.item(),\n",
    "            \"model_acc\": acc}\n",
    "\n",
    "model0_results = eval_model(model=model0,\n",
    "                            data_loader=test_dl,\n",
    "                            loss_fn=loss_fn,\n",
    "                            accuracy_fn=accuracy_fn,\n",
    "                            device=device)\n",
    "model0_results"
   ]
  },
  {
   "cell_type": "code",
   "execution_count": 14,
   "metadata": {},
   "outputs": [
    {
     "name": "stderr",
     "output_type": "stream",
     "text": [
      "0it [00:00, ?it/s]\n"
     ]
    }
   ],
   "source": [
    "def train_step(model: nn.Module,\n",
    "               data: torch.utils.data.DataLoader,\n",
    "               loss_fn: nn.Module,\n",
    "               optimizer: torch.optim.Optimizer,\n",
    "               accuracy_fn,\n",
    "               device: torch.device):\n",
    "    model.train()\n",
    "    train_loss, train_acc = 0, 0\n",
    "    for X, y in data:\n",
    "        X, y = X.to(device), y.to(device)\n",
    "        pred = model(X)\n",
    "        loss = loss_fn(pred, y)\n",
    "        train_loss += loss\n",
    "        train_acc += accuracy_fn(y, pred.argmax(dim=1)) # .argmax(dim=1) goes from logits to predicted index\n",
    "        optimizer.zero_grad()\n",
    "        loss.backward()\n",
    "        optimizer.step()\n",
    "    \n",
    "    train_loss /= len(data)\n",
    "    train_acc /= len(data)\n",
    "    print(f\"Train Loss: {train_loss:.5f} | Train Acc: {train_acc:.2f}%\")\n",
    "\n",
    "def test_step(model: nn.Module,\n",
    "              data: torch.utils.data.DataLoader,\n",
    "              loss_fn: nn.Module,\n",
    "              accuracy_fn,\n",
    "              device: torch.device):\n",
    "    model.eval()\n",
    "    test_loss, test_acc = 0, 0\n",
    "    with torch.inference_mode():\n",
    "        for X, y in data:\n",
    "            X, y = X.to(device), y.to(device)\n",
    "            pred = model(X)\n",
    "            test_loss += loss_fn(pred, y)\n",
    "            test_acc += accuracy_fn(y, pred.argmax(dim=1))\n",
    "        test_loss /= len(data)\n",
    "        test_acc /= len(data)\n",
    "        print(f\"Test Loss: {test_loss:.5f} | Test Acc: {test_acc:.2f}%\")\n",
    "\n",
    "model = FashMNISTV0(in_shape=784,\n",
    "                     hidden_units=512,\n",
    "                     out_shape=10,\n",
    "                     device=device)\n",
    "loss_fn = nn.CrossEntropyLoss()\n",
    "optim = torch.optim.AdamW(params=model.parameters(), lr=LR)\n",
    "\n",
    "epochs = 0\n",
    "\n",
    "for epoch in tqdm(range(epochs)):\n",
    "    print(f\"Epoch: {epoch}\\n------------\")\n",
    "    train_step(model= model,\n",
    "               data = train_dl,\n",
    "               loss_fn=loss_fn,\n",
    "               optimizer=optim,\n",
    "               accuracy_fn=accuracy_fn,\n",
    "               device=device)\n",
    "    test_step(model= model,\n",
    "              data = train_dl,\n",
    "              loss_fn=loss_fn,\n",
    "              accuracy_fn=accuracy_fn,\n",
    "              device=device)\n",
    "    print(\"\\n\")"
   ]
  },
  {
   "cell_type": "code",
   "execution_count": 15,
   "metadata": {},
   "outputs": [
    {
     "name": "stderr",
     "output_type": "stream",
     "text": [
      "100%|██████████| 313/313 [00:00<00:00, 345.48it/s]\n"
     ]
    },
    {
     "data": {
      "text/plain": [
       "{'model_name': 'FashMNISTV0',\n",
       " 'model_loss': 2.307673215866089,\n",
       " 'model_acc': 7.138578274760383}"
      ]
     },
     "execution_count": 15,
     "metadata": {},
     "output_type": "execute_result"
    }
   ],
   "source": [
    "model_results = eval_model(model=model,\n",
    "                            data_loader=test_dl,\n",
    "                            loss_fn=loss_fn,\n",
    "                            accuracy_fn=accuracy_fn,\n",
    "                            device=device)\n",
    "model_results"
   ]
  },
  {
   "cell_type": "code",
   "execution_count": 16,
   "metadata": {},
   "outputs": [],
   "source": [
    "# My first convolutional neural network!!\n",
    "\n",
    "class ConvNet(nn.Module):\n",
    "    \"\"\"\n",
    "    Model Architecture that replicates the TinyVGG found on the website - https://poloclub.github.io/cnn-explainer/\n",
    "    Other popular models - https://medium.com/analytics-vidhya/cnns-architectures-lenet-alexnet-vgg-googlenet-resnet-and-more-666091488df5\n",
    "\n",
    "    \"\"\"\n",
    "    def __init__(self, in_shape: int, hidden_units: int, out_shape: int) -> None:\n",
    "        super().__init__()\n",
    "        self.conv_block_1 = nn.Sequential(\n",
    "            nn.Conv2d(in_channels=in_shape,\n",
    "                      out_channels=hidden_units,\n",
    "                      kernel_size=3,\n",
    "                      stride=1,\n",
    "                      padding=1), # Values we can set ourselves in our NN's are called hyperparameters\n",
    "            nn.ReLU(),\n",
    "            nn.Conv2d(in_channels=hidden_units,\n",
    "                      out_channels=hidden_units,\n",
    "                      kernel_size=3,\n",
    "                      stride=1,\n",
    "                      padding=1),\n",
    "            nn.ReLU(),\n",
    "            nn.MaxPool2d(kernel_size=2,\n",
    "                         stride=2))\n",
    "        self.conv_block_2 = nn.Sequential(\n",
    "            nn.Conv2d(in_channels=hidden_units,\n",
    "                      out_channels=hidden_units,\n",
    "                      kernel_size=3,\n",
    "                      stride=1,\n",
    "                      padding=1),\n",
    "            nn.ReLU(),\n",
    "            nn.Conv2d(in_channels=hidden_units,\n",
    "                      out_channels=hidden_units,\n",
    "                      kernel_size=3,\n",
    "                      stride=1,\n",
    "                      padding=1),\n",
    "            nn.ReLU(),\n",
    "            nn.MaxPool2d(kernel_size=2,\n",
    "                         stride=2))\n",
    "        self.classifier = nn.Sequential(\n",
    "            nn.Flatten(),\n",
    "            nn.Linear(in_features=hidden_units*7*7, # There's a trick to calculating this. Make sure you build in print statements in the forward pass between blocks to follow shape, this will help you define the necessary in_shape of this layer\n",
    "                      out_features=out_shape)\n",
    "        )\n",
    "    def forward(self, x: torch.Tensor) -> torch.Tensor:\n",
    "        x = self.conv_block_1(x)\n",
    "        #print(f\"Conv1 Layer: {x.shape}\")\n",
    "        x = self.conv_block_2(x)\n",
    "        #print(f\"Conv2 Layer: {x.shape}\")\n",
    "        x = self.classifier(x)\n",
    "        #print(f\"Classifier Layer: {x.shape}\")\n",
    "        return x\n"
   ]
  },
  {
   "cell_type": "code",
   "execution_count": 17,
   "metadata": {},
   "outputs": [
    {
     "data": {
      "text/plain": [
       "torch.Size([1, 10, 62, 62])"
      ]
     },
     "execution_count": 17,
     "metadata": {},
     "output_type": "execute_result"
    }
   ],
   "source": [
    "# Stepping through nn.Conv2d - make some dummy data\n",
    "torch.manual_seed(RAND_SEED)\n",
    "images = torch.rand(size = (32,3,64,64)) # 32 in a batch, 3 color channels, 64 width, 64 height\n",
    "test_image = images[0].unsqueeze(0)\n",
    "conv_layer = nn.Conv2d(in_channels=3,\n",
    "                       out_channels=10,\n",
    "                       kernel_size=3,\n",
    "                       stride=1,\n",
    "                       padding=0)\n",
    "conv_out = conv_layer(test_image)\n",
    "conv_out.shape"
   ]
  },
  {
   "cell_type": "code",
   "execution_count": 18,
   "metadata": {},
   "outputs": [
    {
     "name": "stdout",
     "output_type": "stream",
     "text": [
      "torch.Size([1, 10, 62, 62])\n"
     ]
    },
    {
     "data": {
      "text/plain": [
       "torch.Size([1, 10, 31, 31])"
      ]
     },
     "execution_count": 18,
     "metadata": {},
     "output_type": "execute_result"
    }
   ],
   "source": [
    "# Stepping through nn.MaxPool2d\n",
    "pool_layer = nn.MaxPool2d(kernel_size=2)\n",
    "conv_out = conv_layer(test_image)\n",
    "print(conv_out.shape)\n",
    "conv_out = pool_layer(conv_out)\n",
    "conv_out.shape"
   ]
  },
  {
   "cell_type": "code",
   "execution_count": 19,
   "metadata": {},
   "outputs": [
    {
     "data": {
      "text/plain": [
       "torch.Size([1, 28, 28])"
      ]
     },
     "execution_count": 19,
     "metadata": {},
     "output_type": "execute_result"
    },
    {
     "data": {
      "image/png": "[encoded data removed]",
      "text/plain": [
       "<Figure size 640x480 with 1 Axes>"
      ]
     },
     "metadata": {},
     "output_type": "display_data"
    }
   ],
   "source": [
    "# Test our CNN with a Fashion MNIST image\n",
    "\n",
    "plt.imshow(image.squeeze(), cmap='gray')\n",
    "#image = image.unsqueeze(0)\n",
    "image.shape"
   ]
  },
  {
   "cell_type": "code",
   "execution_count": 20,
   "metadata": {},
   "outputs": [
    {
     "data": {
      "text/plain": [
       "tensor([[ 0.0178,  0.0465,  0.1109, -0.0417, -0.0021, -0.0328, -0.0627,  0.0317,\n",
       "          0.0153,  0.0401]], device='cuda:0', grad_fn=<AddmmBackward0>)"
      ]
     },
     "execution_count": 20,
     "metadata": {},
     "output_type": "execute_result"
    }
   ],
   "source": [
    "torch.manual_seed(RAND_SEED)\n",
    "cnn_model=ConvNet(in_shape=1, hidden_units=10, out_shape=10).to(device)\n",
    "torch.manual_seed(RAND_SEED)\n",
    "rand_image_tensor = torch.rand(size=(1,1,28,28)).to(device)\n",
    "\n",
    "cnn_model(rand_image_tensor)"
   ]
  },
  {
   "cell_type": "markdown",
   "metadata": {},
   "source": [
    "### Begin to train first CNN!\n",
    "\n",
    "Set up a loss function and optimizer for the CNN model then build a train/test loop then evaluate the model!"
   ]
  },
  {
   "cell_type": "code",
   "execution_count": 21,
   "metadata": {},
   "outputs": [
    {
     "name": "stderr",
     "output_type": "stream",
     "text": [
      "  0%|          | 0/6 [00:00<?, ?it/s]"
     ]
    },
    {
     "name": "stdout",
     "output_type": "stream",
     "text": [
      "Epoch: 0\n",
      "-----------\n",
      "Train Loss: 0.48840 | Train Acc: 82.17%\n"
     ]
    },
    {
     "name": "stderr",
     "output_type": "stream",
     "text": [
      " 17%|█▋        | 1/6 [00:10<00:53, 10.73s/it]"
     ]
    },
    {
     "name": "stdout",
     "output_type": "stream",
     "text": [
      "Test Loss: 0.40413 | Test Acc: 85.09%\n",
      "Epoch: 1\n",
      "-----------\n",
      "Train Loss: 0.37889 | Train Acc: 86.29%\n"
     ]
    },
    {
     "name": "stderr",
     "output_type": "stream",
     "text": [
      " 33%|███▎      | 2/6 [00:21<00:44, 11.02s/it]"
     ]
    },
    {
     "name": "stdout",
     "output_type": "stream",
     "text": [
      "Test Loss: 0.39696 | Test Acc: 85.64%\n",
      "Epoch: 2\n",
      "-----------\n",
      "Train Loss: 0.36434 | Train Acc: 86.75%\n"
     ]
    },
    {
     "name": "stderr",
     "output_type": "stream",
     "text": [
      " 50%|█████     | 3/6 [00:32<00:32, 10.80s/it]"
     ]
    },
    {
     "name": "stdout",
     "output_type": "stream",
     "text": [
      "Test Loss: 0.37969 | Test Acc: 86.42%\n",
      "Epoch: 3\n",
      "-----------\n",
      "Train Loss: 0.36423 | Train Acc: 86.78%\n"
     ]
    },
    {
     "name": "stderr",
     "output_type": "stream",
     "text": [
      " 67%|██████▋   | 4/6 [00:42<00:21, 10.64s/it]"
     ]
    },
    {
     "name": "stdout",
     "output_type": "stream",
     "text": [
      "Test Loss: 0.37215 | Test Acc: 86.37%\n",
      "Epoch: 4\n",
      "-----------\n",
      "Train Loss: 0.35474 | Train Acc: 87.21%\n"
     ]
    },
    {
     "name": "stderr",
     "output_type": "stream",
     "text": [
      " 83%|████████▎ | 5/6 [00:53<00:10, 10.45s/it]"
     ]
    },
    {
     "name": "stdout",
     "output_type": "stream",
     "text": [
      "Test Loss: 0.38547 | Test Acc: 86.31%\n",
      "Epoch: 5\n",
      "-----------\n",
      "Train Loss: 0.35060 | Train Acc: 87.32%\n"
     ]
    },
    {
     "name": "stderr",
     "output_type": "stream",
     "text": [
      "100%|██████████| 6/6 [01:02<00:00, 10.48s/it]"
     ]
    },
    {
     "name": "stdout",
     "output_type": "stream",
     "text": [
      "Test Loss: 0.37802 | Test Acc: 86.22%\n",
      "\n",
      "Train time on cuda: 62.902 seconds\n"
     ]
    },
    {
     "name": "stderr",
     "output_type": "stream",
     "text": [
      "\n"
     ]
    }
   ],
   "source": [
    "from helper_functions import accuracy_fn\n",
    "from timeit import default_timer as timer\n",
    "loss_fn = nn.CrossEntropyLoss()\n",
    "optim = torch.optim.Adam(params=cnn_model.parameters(), lr=0.01)\n",
    "\n",
    "torch.manual_seed(RAND_SEED)\n",
    "torch.cuda.manual_seed(RAND_SEED)\n",
    "\n",
    "train_time_start = timer()\n",
    "\n",
    "epochs=6\n",
    "for epoch in tqdm(range(epochs)):\n",
    "    print(f\"Epoch: {epoch}\\n-----------\")\n",
    "    train_step(model=cnn_model,\n",
    "              data=train_dl,\n",
    "              loss_fn=loss_fn,\n",
    "              optimizer=optim,\n",
    "              accuracy_fn=accuracy_fn,\n",
    "              device=device\n",
    "              )\n",
    "    test_step(model=cnn_model,\n",
    "              data=test_dl,\n",
    "              loss_fn=loss_fn,\n",
    "              accuracy_fn=accuracy_fn,\n",
    "              device=device)\n",
    "train_time_end = timer()\n",
    "total_train_time = print_train_time(start=train_time_start, end=train_time_end,device=device)"
   ]
  },
  {
   "cell_type": "code",
   "execution_count": 22,
   "metadata": {},
   "outputs": [
    {
     "name": "stderr",
     "output_type": "stream",
     "text": [
      "100%|██████████| 313/313 [00:00<00:00, 314.56it/s]\n"
     ]
    },
    {
     "data": {
      "text/plain": [
       "{'model_name': 'ConvNet',\n",
       " 'model_loss': 0.3780212700366974,\n",
       " 'model_acc': 86.22204472843451}"
      ]
     },
     "execution_count": 22,
     "metadata": {},
     "output_type": "execute_result"
    }
   ],
   "source": [
    "# Get cnn_model results\n",
    "cnn_model_results = eval_model(model=cnn_model,\n",
    "                               data_loader=test_dl,\n",
    "                               loss_fn=loss_fn,\n",
    "                               accuracy_fn=accuracy_fn,\n",
    "                               device=device)\n",
    "cnn_model_results"
   ]
  },
  {
   "cell_type": "code",
   "execution_count": 23,
   "metadata": {},
   "outputs": [],
   "source": [
    "def make_predictions(model: torch.nn.Module,\n",
    "                     data: list,\n",
    "                     device: torch.device):\n",
    "    pred_probs = []\n",
    "    model.eval()\n",
    "    with torch.inference_mode():\n",
    "        for sample in data:\n",
    "            sample = torch.unsqueeze(sample, dim=0).to(device)\n",
    "\n",
    "            pred_logit = model(sample)\n",
    "\n",
    "            pred_prob = torch.softmax(pred_logit.squeeze(), dim=0)\n",
    "\n",
    "            pred_probs.append(pred_prob.cpu())\n",
    "    return torch.stack(pred_probs)"
   ]
  },
  {
   "cell_type": "code",
   "execution_count": 24,
   "metadata": {},
   "outputs": [
    {
     "data": {
      "text/plain": [
       "<matplotlib.image.AxesImage at 0x7f5b402019f0>"
      ]
     },
     "execution_count": 24,
     "metadata": {},
     "output_type": "execute_result"
    },
    {
     "data": {
      "image/png": "[encoded data removed]",
      "text/plain": [
       "<Figure size 640x480 with 1 Axes>"
      ]
     },
     "metadata": {},
     "output_type": "display_data"
    }
   ],
   "source": [
    "import random\n",
    "random.seed(RAND_SEED)\n",
    "test_samples = []\n",
    "test_labels = []\n",
    "for sample, label in random.sample(list(test_dataset), k=20):\n",
    "    test_samples.append(sample)\n",
    "    test_labels.append(label)\n",
    "\n",
    "plt.imshow(test_samples[0].squeeze())"
   ]
  },
  {
   "cell_type": "code",
   "execution_count": 25,
   "metadata": {},
   "outputs": [
    {
     "name": "stdout",
     "output_type": "stream",
     "text": [
      "pred_probs[0]: True\n",
      "pred_probs[1]: True\n",
      "pred_probs[2]: True\n",
      "pred_probs[3]: True\n",
      "pred_probs[4]: True\n",
      "pred_probs[5]: True\n",
      "pred_probs[6]: True\n",
      "pred_probs[7]: True\n",
      "pred_probs[8]: True\n",
      "pred_probs[9]: True\n",
      "pred_probs[10]: True\n",
      "pred_probs[11]: True\n",
      "pred_probs[12]: True\n",
      "pred_probs[13]: True\n",
      "pred_probs[14]: True\n",
      "pred_probs[15]: False\n",
      "pred_probs[16]: True\n",
      "pred_probs[17]: True\n",
      "pred_probs[18]: True\n",
      "pred_probs[19]: True\n"
     ]
    }
   ],
   "source": [
    "pred_probs = make_predictions(model=cnn_model,\n",
    "                              data=test_samples,\n",
    "                              device=device)\n",
    "for i in range(len(pred_probs)):\n",
    "    print(f\"pred_probs[{i}]: {pred_probs[i].argmax(dim=0) == test_labels[i]}\")\n",
    "\n"
   ]
  },
  {
   "cell_type": "markdown",
   "metadata": {},
   "source": [
    "### Making a confusion matrix\n",
    "\n",
    "Confusion matrix is a fantastic way to evaluate a model\n",
    "\n",
    "Use torchmetrics - torchmetrics.ConfusionMatrix\n",
    "Plot the confusion matrix using - mlxtend.plotting.plot_confusion_matrix()\n"
   ]
  },
  {
   "cell_type": "code",
   "execution_count": 26,
   "metadata": {},
   "outputs": [
    {
     "name": "stderr",
     "output_type": "stream",
     "text": [
      "Making predictions...: 100%|██████████| 313/313 [00:00<00:00, 336.27it/s]\n"
     ]
    },
    {
     "data": {
      "text/plain": [
       "10000"
      ]
     },
     "execution_count": 26,
     "metadata": {},
     "output_type": "execute_result"
    }
   ],
   "source": [
    "y_preds = []\n",
    "cnn_model.eval()\n",
    "with torch.inference_mode():\n",
    "    for X,y in tqdm(test_dl, desc=\"Making predictions...\"):\n",
    "        X, y = X.to(device), y.to(device)\n",
    "        y_logit = cnn_model(X)\n",
    "        y_pred = torch.softmax(y_logit.squeeze(),dim=0).argmax(dim=1)\n",
    "        y_preds.append(y_pred.cpu())\n",
    "y_preds_tensor = torch.cat(y_preds)\n",
    "len(y_preds_tensor)"
   ]
  },
  {
   "cell_type": "code",
   "execution_count": 27,
   "metadata": {},
   "outputs": [
    {
     "data": {
      "image/png": "[encoded data removed]",
      "text/plain": [
       "<Figure size 1000x700 with 1 Axes>"
      ]
     },
     "metadata": {},
     "output_type": "display_data"
    }
   ],
   "source": [
    "from torchmetrics import ConfusionMatrix\n",
    "from mlxtend.plotting import plot_confusion_matrix\n",
    "\n",
    "# Setup confusion instance and compare predictions to targets\n",
    "confmat = ConfusionMatrix(num_classes=len(class_names), task=\"multiclass\")\n",
    "confmat_tensor = confmat(preds=y_preds_tensor,\n",
    "                         target=test_dataset.targets)\n",
    "fig, ax = plot_confusion_matrix(conf_mat=confmat_tensor.numpy(),\n",
    "                                class_names=class_names,\n",
    "                                figsize=(10,7))"
   ]
  },
  {
   "cell_type": "code",
   "execution_count": 28,
   "metadata": {},
   "outputs": [
    {
     "name": "stdout",
     "output_type": "stream",
     "text": [
      "Saving model to: cnn_model/cnn_model.pth\n"
     ]
    }
   ],
   "source": [
    "# Save and load model!\n",
    "from pathlib import Path\n",
    "MODEL_PATH = Path(\"cnn_model\")\n",
    "MODEL_PATH.mkdir(parents=True,\n",
    "                 exist_ok=True)\n",
    "\n",
    "MODEL_NAME = \"cnn_model.pth\"\n",
    "MODEL_SAVE_PATH = MODEL_PATH / MODEL_NAME\n",
    "\n",
    "print(f\"Saving model to: {MODEL_SAVE_PATH}\")\n",
    "torch.save(obj=cnn_model.state_dict(),\n",
    "           f=MODEL_SAVE_PATH)"
   ]
  },
  {
   "cell_type": "code",
   "execution_count": 29,
   "metadata": {},
   "outputs": [
    {
     "data": {
      "text/plain": [
       "{'model_name': 'ConvNet',\n",
       " 'model_loss': 0.3780212700366974,\n",
       " 'model_acc': 86.22204472843451}"
      ]
     },
     "execution_count": 29,
     "metadata": {},
     "output_type": "execute_result"
    }
   ],
   "source": [
    "# Create a new instance of cnn_model\n",
    "\n",
    "torch.manual_seed(RAND_SEED)\n",
    "loaded_cnn_model = ConvNet(in_shape=1, hidden_units=10, out_shape=len(class_names))\n",
    "loaded_cnn_model.load_state_dict(torch.load(f=MODEL_SAVE_PATH))\n",
    "loaded_cnn_model.to(device)\n",
    "\n",
    "cnn_model_results"
   ]
  },
  {
   "cell_type": "code",
   "execution_count": 30,
   "metadata": {},
   "outputs": [
    {
     "name": "stderr",
     "output_type": "stream",
     "text": [
      "100%|██████████| 313/313 [00:00<00:00, 335.09it/s]\n"
     ]
    },
    {
     "data": {
      "text/plain": [
       "{'model_name': 'ConvNet',\n",
       " 'model_loss': 0.3780212700366974,\n",
       " 'model_acc': 86.22204472843451}"
      ]
     },
     "execution_count": 30,
     "metadata": {},
     "output_type": "execute_result"
    }
   ],
   "source": [
    "torch.manual_seed(RAND_SEED)\n",
    "loaded_cnn_model_results = eval_model(model=loaded_cnn_model, data_loader=test_dl, loss_fn=loss_fn, accuracy_fn=accuracy_fn, device=device)\n",
    "loaded_cnn_model_results"
   ]
  },
  {
   "cell_type": "code",
   "execution_count": 31,
   "metadata": {},
   "outputs": [
    {
     "data": {
      "text/plain": [
       "tensor(True)"
      ]
     },
     "execution_count": 31,
     "metadata": {},
     "output_type": "execute_result"
    }
   ],
   "source": [
    "# Check if models are close\n",
    "torch.isclose(torch.tensor(cnn_model_results[\"model_loss\"]),\n",
    "              torch.tensor(loaded_cnn_model_results[\"model_loss\"]),\n",
    "              atol=1E-14)"
   ]
  },
  {
   "cell_type": "code",
   "execution_count": 32,
   "metadata": {},
   "outputs": [
    {
     "name": "stdout",
     "output_type": "stream",
     "text": [
      "1 ops\n",
      "itr time: 797.3265647888184\n",
      "FLOPS: 0.02 TF/s\n",
      "Mem B/W: 168.33 GB/s\n",
      "\n",
      "[(0.0007973265647888184, 21041837486.55565, 168334699892.4452)]\n",
      "2 ops\n",
      "itr time: 806.7774772644043\n",
      "FLOPS: 0.04 TF/s\n",
      "Mem B/W: 166.36 GB/s\n",
      "\n",
      "[(0.0007973265647888184, 21041837486.55565, 168334699892.4452), (0.0008067774772644043, 41590690054.679405, 166362760218.71762)]\n",
      "4 ops\n",
      "itr time: 807.0135116577148\n",
      "FLOPS: 0.08 TF/s\n",
      "Mem B/W: 166.31 GB/s\n",
      "\n",
      "[(0.0007973265647888184, 21041837486.55565, 168334699892.4452), (0.0008067774772644043, 41590690054.679405, 166362760218.71762), (0.0008070135116577149, 83157051313.98521, 166314102627.97043)]\n",
      "8 ops\n",
      "itr time: 805.5305480957031\n",
      "FLOPS: 0.17 TF/s\n",
      "Mem B/W: 166.62 GB/s\n",
      "\n",
      "[(0.0007973265647888184, 21041837486.55565, 168334699892.4452), (0.0008067774772644043, 41590690054.679405, 166362760218.71762), (0.0008070135116577149, 83157051313.98521, 166314102627.97043), (0.0008055305480957031, 166620283137.98215, 166620283137.98215)]\n",
      "16 ops\n",
      "itr time: 806.4723014831543\n",
      "FLOPS: 0.33 TF/s\n",
      "Mem B/W: 166.43 GB/s\n",
      "\n",
      "[(0.0007973265647888184, 21041837486.55565, 168334699892.4452), (0.0008067774772644043, 41590690054.679405, 166362760218.71762), (0.0008070135116577149, 83157051313.98521, 166314102627.97043), (0.0008055305480957031, 166620283137.98215, 166620283137.98215), (0.0008064723014831543, 332851426523.056, 166425713261.528)]\n",
      "32 ops\n",
      "itr time: 801.2652397155762\n",
      "FLOPS: 0.67 TF/s\n",
      "Mem B/W: 167.51 GB/s\n",
      "\n",
      "[(0.0007973265647888184, 21041837486.55565, 168334699892.4452), (0.0008067774772644043, 41590690054.679405, 166362760218.71762), (0.0008070135116577149, 83157051313.98521, 166314102627.97043), (0.0008055305480957031, 166620283137.98215, 166620283137.98215), (0.0008064723014831543, 332851426523.056, 166425713261.528), (0.0008012652397155762, 670028955942.9437, 167507238985.73593)]\n",
      "64 ops\n",
      "itr time: 901.9613265991211\n",
      "FLOPS: 1.19 TF/s\n",
      "Mem B/W: 148.81 GB/s\n",
      "\n",
      "[(0.0007973265647888184, 21041837486.55565, 168334699892.4452), (0.0008067774772644043, 41590690054.679405, 166362760218.71762), (0.0008070135116577149, 83157051313.98521, 166314102627.97043), (0.0008055305480957031, 166620283137.98215, 166620283137.98215), (0.0008064723014831543, 332851426523.056, 166425713261.528), (0.0008012652397155762, 670028955942.9437, 167507238985.73593), (0.0009019613265991211, 1190452176091.1675, 148806522011.39594)]\n",
      "128 ops\n",
      "itr time: 1542.1009063720703\n",
      "FLOPS: 1.39 TF/s\n",
      "Mem B/W: 87.04 GB/s\n",
      "\n",
      "[(0.0007973265647888184, 21041837486.55565, 168334699892.4452), (0.0008067774772644043, 41590690054.679405, 166362760218.71762), (0.0008070135116577149, 83157051313.98521, 166314102627.97043), (0.0008055305480957031, 166620283137.98215, 166620283137.98215), (0.0008064723014831543, 332851426523.056, 166425713261.528), (0.0008012652397155762, 670028955942.9437, 167507238985.73593), (0.0009019613265991211, 1190452176091.1675, 148806522011.39594), (0.0015421009063720703, 1392570122439.0994, 87035632652.44371)]\n",
      "256 ops\n",
      "itr time: 2827.308177947998\n",
      "FLOPS: 1.52 TF/s\n",
      "Mem B/W: 47.47 GB/s\n",
      "\n",
      "[(0.0007973265647888184, 21041837486.55565, 168334699892.4452), (0.0008067774772644043, 41590690054.679405, 166362760218.71762), (0.0008070135116577149, 83157051313.98521, 166314102627.97043), (0.0008055305480957031, 166620283137.98215, 166620283137.98215), (0.0008064723014831543, 332851426523.056, 166425713261.528), (0.0008012652397155762, 670028955942.9437, 167507238985.73593), (0.0009019613265991211, 1190452176091.1675, 148806522011.39594), (0.0015421009063720703, 1392570122439.0994, 87035632652.44371), (0.002827308177947998, 1519101217723.3535, 47471913053.8548)]\n",
      "512 ops\n",
      "itr time: 5780.229568481445\n",
      "FLOPS: 1.49 TF/s\n",
      "Mem B/W: 23.22 GB/s\n",
      "\n",
      "[(0.0007973265647888184, 21041837486.55565, 168334699892.4452), (0.0008067774772644043, 41590690054.679405, 166362760218.71762), (0.0008070135116577149, 83157051313.98521, 166314102627.97043), (0.0008055305480957031, 166620283137.98215, 166620283137.98215), (0.0008064723014831543, 332851426523.056, 166425713261.528), (0.0008012652397155762, 670028955942.9437, 167507238985.73593), (0.0009019613265991211, 1190452176091.1675, 148806522011.39594), (0.0015421009063720703, 1392570122439.0994, 87035632652.44371), (0.002827308177947998, 1519101217723.3535, 47471913053.8548), (0.0057802295684814455, 1486088829211.7966, 23220137956.434322)]\n"
     ]
    }
   ],
   "source": [
    "# This is code from https://horace.io/brrr_intro.html\n",
    "# This is demonstrating the different regimes a deep learning neural network can be in\n",
    "# - Compute, - Memory, - Overhead\n",
    "# So this demonstrates the relationship between scale of computation and where the bottlenecks are.\n",
    "# Are they due to GPU limitations, memory bandwidth or CPU limitations.\n",
    "\n",
    "\n",
    "import torch\n",
    "import time\n",
    "\n",
    "values = []\n",
    "def calc_flops(func, sz, loop_iters):\n",
    "  inputs = [torch.randn(sz, device='cuda')]\n",
    "  for _ in range(5):\n",
    "    func(*inputs)\n",
    "  torch.cuda.synchronize()\n",
    "  iters = 100\n",
    "  begin = time.time()\n",
    "  for _ in range(iters):\n",
    "    func(*inputs)\n",
    "  torch.cuda.synchronize()\n",
    "  t = (time.time()-begin)\n",
    "  iters_per_s = iters/t\n",
    "  flops = sz * loop_iters\n",
    "  bytes_per_elem = 4\n",
    "  num_reads = 1\n",
    "  num_writes = 1\n",
    "  mem_bw = sz * (num_reads + num_writes) * bytes_per_elem\n",
    "  print(f\"{loop_iters} ops\")\n",
    "  print(f\"itr time: {t *1e6 / iters}\")\n",
    "  print(f\"FLOPS: {iters_per_s * flops/1e12:.2f} TF/s\")\n",
    "  print(f\"Mem B/W: {iters_per_s * mem_bw/1e9:.2f} GB/s\")\n",
    "  print()\n",
    "  values.append((t / iters, iters_per_s * flops, iters_per_s * mem_bw))\n",
    "\n",
    "for iters in [2**i for i in range(10)]:\n",
    "  def f(x):\n",
    "    for _ in range(iters):\n",
    "      x = x * 2\n",
    "    return x\n",
    "\n",
    "  sz = 2**24\n",
    "  f = torch.jit.trace(f, (torch.randn(sz, device='cuda')))\n",
    "  with torch.jit.fuser(\"fuser2\"):\n",
    "    calc_flops(f, sz, iters)\n",
    "    print(values)\n"
   ]
  },
  {
   "cell_type": "code",
   "execution_count": 33,
   "metadata": {},
   "outputs": [
    {
     "data": {
      "image/png": "[encoded data removed]",
      "text/plain": [
       "<Figure size 1500x400 with 3 Axes>"
      ]
     },
     "metadata": {},
     "output_type": "display_data"
    }
   ],
   "source": [
    "import matplotlib.pyplot as plt\n",
    "import matplotlib.gridspec as gridspec\n",
    "times, flops, mem_bw = zip(*values)\n",
    "peak_tflops = 8.141/2\n",
    "peak_bw = 0.32\n",
    "\n",
    "gs = gridspec.GridSpec(1, 3)\n",
    "plt.figure(figsize=(15,4))\n",
    "\n",
    "plt.subplot(gs[0])\n",
    "plt.yscale('log')\n",
    "plt.xlabel('repeat')\n",
    "plt.ylabel('Runtime (us)')\n",
    "plt.plot([str(2**i) for i in range(len(times))], [i * 1e6 for i in times])\n",
    "plt.title(\"Runtime\")\n",
    "# plt.show()\n",
    "\n",
    "plt.subplot(gs[1])\n",
    "\n",
    "peak = plt.axhline(peak_tflops, color = 'g')\n",
    "# plt.xscale('log')\n",
    "plt.yscale('log')\n",
    "plt.xlabel('repeat')\n",
    "plt.ylabel('Teraflops')\n",
    "res, = plt.plot([str(2**i) for i in range(len(flops))], [i/1e12 for i in flops])\n",
    "ax = plt.gca()\n",
    "import matplotlib.ticker as mticker\n",
    "plt.legend([res, peak], ['Achieved', 'Peak'])\n",
    "\n",
    "plt.title(\"FLOPS\")\n",
    "ax.yaxis.set_major_formatter(mticker.ScalarFormatter())\n",
    "\n",
    "\n",
    "plt.subplot(gs[2])\n",
    "peak = plt.axhline(peak_bw, color = 'g')\n",
    "\n",
    "plt.yscale('log')\n",
    "plt.xlabel('repeat')\n",
    "plt.ylabel('Bandwidth (GB)')\n",
    "plt.plot([str(2**i) for i in range(len(mem_bw))], [i/1e12 for i in mem_bw])\n",
    "ax = plt.gca()\n",
    "ax.yaxis.set_major_formatter(mticker.ScalarFormatter())\n",
    "ax.yaxis.set_minor_formatter(mticker.ScalarFormatter())\n",
    "\n",
    "import matplotlib.ticker as mticker\n",
    "\n",
    "plt.title(\"Memory Bandwidth\")\n",
    "plt.savefig('microbench.png', bbox_inches='tight')"
   ]
  }
 ],
 "metadata": {
  "kernelspec": {
   "display_name": "Python 3",
   "language": "python",
   "name": "python3"
  },
  "language_info": {
   "codemirror_mode": {
    "name": "ipython",
    "version": 3
   },
   "file_extension": ".py",
   "mimetype": "text/x-python",
   "name": "python",
   "nbconvert_exporter": "python",
   "pygments_lexer": "ipython3",
   "version": "3.10.12"
  },
  "orig_nbformat": 4
 },
 "nbformat": 4,
 "nbformat_minor": 2
}
