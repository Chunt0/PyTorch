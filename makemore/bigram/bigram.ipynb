{
 "cells": [
  {
   "cell_type": "markdown",
   "metadata": {},
   "source": [
    "# Bigram Name Generator"
   ]
  },
  {
   "cell_type": "code",
   "execution_count": 2,
   "metadata": {},
   "outputs": [
    {
     "name": "stdout",
     "output_type": "stream",
     "text": [
      "data/ already exists... skipping\n"
     ]
    }
   ],
   "source": [
    "# Download names.txt from github\n",
    "import requests\n",
    "from pathlib import Path\n",
    "\n",
    "# Set up a data folder\n",
    "data_path = Path(\"data/\")\n",
    "\n",
    "if data_path.is_dir():\n",
    "    print(f\"{data_path}/ already exists... skipping\")\n",
    "else:\n",
    "    print(f\"{data_path}/ does not exist, creating one...\")\n",
    "    data_path.mkdir(parents=True, exist_ok=True)\n",
    "\n",
    "# Download data\n",
    "with open(data_path / \"names.txt\", \"wb\") as f:\n",
    "    request = requests.get(\"https://raw.githubusercontent.com/karpathy/makemore/master/names.txt\")\n",
    "    f.write(request.content)\n"
   ]
  },
  {
   "cell_type": "code",
   "execution_count": 45,
   "metadata": {},
   "outputs": [],
   "source": [
    "import torch\n",
    "import matplotlib.pyplot as plt\n",
    "\n",
    "# Open names.txt and turn it into a list of names with '.' as the start and end character\n",
    "with open(data_path / \"names.txt\", \"r\") as f:\n",
    "    names = [\".\"+line.strip()+\".\" for line in f.readlines()]\n",
    "\n",
    "# Create bigrams from all the names\n",
    "bigrams = []\n",
    "for name in names:\n",
    "    name_bigram = [(f,s) for f, s in zip(name[:], name[1:])]\n",
    "    for bigram in name_bigram:\n",
    "        bigrams.append(bigram)\n",
    "\n",
    "# Create mappings for char's to int's and vice versa\n",
    "char_set = {char for name in names for char in name}\n",
    "ctoi = {c: i for i, c in enumerate(sorted(list(char_set)))}\n",
    "itoc = {i: c for i, c in enumerate(sorted(list(char_set)))}\n",
    "\n",
    "# Record the amount of occurances of each char following another char\n",
    "occurances = torch.zeros(len(char_set), len(char_set))\n",
    "for bigram in bigrams:\n",
    "    ix1, ix2 = bigram\n",
    "    ix1, ix2 = ctoi[ix1], ctoi[ix2]\n",
    "    occurances[ix1][ix2] +=1\n"
   ]
  },
  {
   "cell_type": "code",
   "execution_count": 44,
   "metadata": {},
   "outputs": [
    {
     "data": {
      "text/plain": [
       "6763.0"
      ]
     },
     "execution_count": 44,
     "metadata": {},
     "output_type": "execute_result"
    }
   ],
   "source": [
    "torch.max(occurances).item()"
   ]
  }
 ],
 "metadata": {
  "kernelspec": {
   "display_name": "Python 3",
   "language": "python",
   "name": "python3"
  },
  "language_info": {
   "codemirror_mode": {
    "name": "ipython",
    "version": 3
   },
   "file_extension": ".py",
   "mimetype": "text/x-python",
   "name": "python",
   "nbconvert_exporter": "python",
   "pygments_lexer": "ipython3",
   "version": "3.10.12"
  },
  "orig_nbformat": 4
 },
 "nbformat": 4,
 "nbformat_minor": 2
}
