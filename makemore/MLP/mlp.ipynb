{
 "cells": [
  {
   "cell_type": "markdown",
   "metadata": {},
   "source": [
    "# Multilayer Perceptrons - MLP\n",
    "\n",
    "This notebook will explore and implement a MLP based neural network for next character pedictions based on the paper: [A Neural Probablisitc Language Model by Bengio, et al.](https://dl.acm.org/doi/pdf/10.5555/944919.944966)\n",
    "\n",
    "In this paper the authors attempt to address the \"curse of dimensionality\" (a word\n",
    "sequence on which the model will be tested is likely to be different from all the word sequences seen\n",
    "during training)\n",
    "\n",
    "The paper aims to mitigate this by \"learning a distributed representation for words which allows each training sentence to inform the model about an exponential number of semantically neighboring sentences.\"\n",
    "\n",
    "## Probability of Next Word\n",
    "$$\\hat{P}(w_1^T) = \\prod_{t=1}^{T} \\hat{P}(w_t | w_1^{t-1})$$\n",
    "\n",
    "\n"
   ]
  },
  {
   "cell_type": "markdown",
   "metadata": {},
   "source": [
    "## MLP Diagram\n",
    "![MLP Model](img/mlp_diagram.png)"
   ]
  },
  {
   "cell_type": "code",
   "execution_count": 48,
   "metadata": {},
   "outputs": [],
   "source": [
    "import torch\n",
    "from torch import nn\n",
    "import torch.nn.functional as F\n",
    "import matplotlib.pyplot as plt\n",
    "%matplotlib inline\n",
    "SEED = 2697\n",
    "device = torch.device(\"cuda\" if torch.cuda.is_available() else \"cpu\")\n"
   ]
  },
  {
   "cell_type": "code",
   "execution_count": 49,
   "metadata": {},
   "outputs": [
    {
     "data": {
      "text/plain": [
       "['emma', 'olivia', 'ava', 'isabella', 'sophia', 'charlotte', 'mia', 'amelia']"
      ]
     },
     "execution_count": 49,
     "metadata": {},
     "output_type": "execute_result"
    }
   ],
   "source": [
    "# Read in all the words\n",
    "words = open(\"../data/names.txt\", 'r').read().splitlines()\n",
    "words[:8]"
   ]
  },
  {
   "cell_type": "code",
   "execution_count": 1,
   "metadata": {},
   "outputs": [
    {
     "ename": "NameError",
     "evalue": "name 'words' is not defined",
     "output_type": "error",
     "traceback": [
      "\u001b[0;31m---------------------------------------------------------------------------\u001b[0m",
      "\u001b[0;31mNameError\u001b[0m                                 Traceback (most recent call last)",
      "\u001b[1;32m/home/chunt/Code/PyTorch/makemore/MLP/mlp.ipynb Cell 5\u001b[0m line \u001b[0;36m3\n\u001b[1;32m      <a href='vscode-notebook-cell:/home/chunt/Code/PyTorch/makemore/MLP/mlp.ipynb#W4sZmlsZQ%3D%3D?line=0'>1</a>\u001b[0m \u001b[39m# Build the vocabulary of characters and mappings to/from integers\u001b[39;00m\n\u001b[0;32m----> <a href='vscode-notebook-cell:/home/chunt/Code/PyTorch/makemore/MLP/mlp.ipynb#W4sZmlsZQ%3D%3D?line=2'>3</a>\u001b[0m chars \u001b[39m=\u001b[39m \u001b[39msorted\u001b[39m(\u001b[39mlist\u001b[39m(\u001b[39mset\u001b[39m(\u001b[39m'\u001b[39m\u001b[39m'\u001b[39m\u001b[39m.\u001b[39mjoin(words))))\n\u001b[1;32m      <a href='vscode-notebook-cell:/home/chunt/Code/PyTorch/makemore/MLP/mlp.ipynb#W4sZmlsZQ%3D%3D?line=3'>4</a>\u001b[0m stoi \u001b[39m=\u001b[39m {s:i\u001b[39m+\u001b[39m\u001b[39m1\u001b[39m \u001b[39mfor\u001b[39;00m i,s \u001b[39min\u001b[39;00m \u001b[39menumerate\u001b[39m(chars)} \n\u001b[1;32m      <a href='vscode-notebook-cell:/home/chunt/Code/PyTorch/makemore/MLP/mlp.ipynb#W4sZmlsZQ%3D%3D?line=4'>5</a>\u001b[0m stoi[\u001b[39m'\u001b[39m\u001b[39m.\u001b[39m\u001b[39m'\u001b[39m] \u001b[39m=\u001b[39m \u001b[39m0\u001b[39m \u001b[39m# Create the special start of word/end of word token and assign it to label 0\u001b[39;00m\n",
      "\u001b[0;31mNameError\u001b[0m: name 'words' is not defined"
     ]
    }
   ],
   "source": [
    "# Build the vocabulary of characters and mappings to/from integers\n",
    "\n",
    "chars = sorted(list(set(''.join(words))))\n",
    "stoi = {s:i+1 for i,s in enumerate(chars)} \n",
    "stoi['.'] = 0 # Create the special start of word/end of word token and assign it to label 0\n",
    "itos = {i:s for s,i in stoi.items()}\n"
   ]
  },
  {
   "cell_type": "code",
   "execution_count": 51,
   "metadata": {},
   "outputs": [],
   "source": [
    "# Build the dataset\n",
    "\n",
    "block_size = 3 # context length: how many characters do we take to predict the next one?\n",
    "X, Y = [], []\n",
    "for w in words:\n",
    "    #print(w)\n",
    "    context = [0] * block_size\n",
    "    for ch in w + '.':\n",
    "        ix = stoi[ch]\n",
    "        X.append(context)\n",
    "        Y.append(ix)\n",
    "        #print(''.join(itos[i] for i in context), '--->', itos[ix])\n",
    "        context = context[1:] + [ix] # crop and append\n",
    "\n",
    "X = torch.tensor(X)\n",
    "Y = torch.tensor(Y)"
   ]
  },
  {
   "cell_type": "code",
   "execution_count": 52,
   "metadata": {},
   "outputs": [
    {
     "data": {
      "text/plain": [
       "(torch.Size([228146, 3]), torch.int64, torch.Size([228146]), torch.int64)"
      ]
     },
     "execution_count": 52,
     "metadata": {},
     "output_type": "execute_result"
    }
   ],
   "source": [
    "X.shape, X.dtype, Y.shape, Y.dtype"
   ]
  },
  {
   "cell_type": "markdown",
   "metadata": {},
   "source": [
    "## Creating Context\n",
    "\n",
    "If we create a dataset X which is tracking words (or characters in this case) two steps before the current word and a dataset Y which contains the following word we will be able to create a neural network that will have weights tuned to have some numerical model of these previous word relationships\n",
    "\n",
    "This is what builds \"context\"!"
   ]
  },
  {
   "cell_type": "code",
   "execution_count": 53,
   "metadata": {},
   "outputs": [
    {
     "data": {
      "text/plain": [
       "(torch.Size([27, 2]), torch.Size([228146, 3]))"
      ]
     },
     "execution_count": 53,
     "metadata": {},
     "output_type": "execute_result"
    }
   ],
   "source": [
    "# Let's build a look up table C - embedding tables\n",
    "torch.manual_seed(SEED)\n",
    "C = torch.randn((27,2))\n",
    "\n",
    "C.shape, X.shape"
   ]
  },
  {
   "cell_type": "code",
   "execution_count": 54,
   "metadata": {},
   "outputs": [
    {
     "data": {
      "text/plain": [
       "torch.Size([228146, 3, 2])"
      ]
     },
     "execution_count": 54,
     "metadata": {},
     "output_type": "execute_result"
    }
   ],
   "source": [
    "# Embed X in C ... This is like a forward pass?\n",
    "emb = C[X] # <-- This is so cool python list comprehension. In this case we are mapping\n",
    "emb.shape"
   ]
  },
  {
   "cell_type": "code",
   "execution_count": 55,
   "metadata": {},
   "outputs": [],
   "source": [
    "W1 = torch.randn((6,100))\n",
    "b1 = torch.randn(100)"
   ]
  },
  {
   "cell_type": "markdown",
   "metadata": {},
   "source": [
    "Torch tensor magic - using the cat function we can reshape a tensor.\n",
    "In this case we have out embedding matrix. This matrix is similar to a linear layer. We are mapping out index tokens for the inputs (the context list) to two randomly initialiazed look-up table. Since the embedding matrix has a size of [32,3,2] and our weights layer is [6,100] we cannot perform matrix multiplication. Here we see the function `torch.cat([list of tensors to concatenate], dimension you wish to cat along)`. \n",
    "\n",
    "The first example is not ideal because it is limited to a context window of 3. If we use a function called `torch.unbind(input, dim=0)` our tensor `emb` will be cated together for as many context variables there are (1 being the dimension where these variables are stored). "
   ]
  },
  {
   "cell_type": "code",
   "execution_count": 56,
   "metadata": {},
   "outputs": [
    {
     "data": {
      "text/plain": [
       "(torch.Size([228146, 6]), torch.Size([228146, 6]))"
      ]
     },
     "execution_count": 56,
     "metadata": {},
     "output_type": "execute_result"
    }
   ],
   "source": [
    "torch.cat([emb[:,0, :], emb[:, 1, :], emb[:, 2, :]], 1).shape, torch.cat(torch.unbind(emb, 1), 1).shape"
   ]
  },
  {
   "cell_type": "code",
   "execution_count": 57,
   "metadata": {},
   "outputs": [
    {
     "data": {
      "text/plain": [
       "tensor([ 0,  1,  2,  3,  4,  5,  6,  7,  8,  9, 10, 11, 12, 13, 14, 15, 16, 17])"
      ]
     },
     "execution_count": 57,
     "metadata": {},
     "output_type": "execute_result"
    }
   ],
   "source": [
    "# There is an even more efficient method using view\n",
    "a = torch.arange(18)\n",
    "a"
   ]
  },
  {
   "cell_type": "code",
   "execution_count": 58,
   "metadata": {},
   "outputs": [
    {
     "data": {
      "text/plain": [
       "torch.Size([18])"
      ]
     },
     "execution_count": 58,
     "metadata": {},
     "output_type": "execute_result"
    }
   ],
   "source": [
    "a.shape"
   ]
  },
  {
   "cell_type": "code",
   "execution_count": 59,
   "metadata": {},
   "outputs": [
    {
     "data": {
      "text/plain": [
       "tensor([[[ 0,  1],\n",
       "         [ 2,  3],\n",
       "         [ 4,  5]],\n",
       "\n",
       "        [[ 6,  7],\n",
       "         [ 8,  9],\n",
       "         [10, 11]],\n",
       "\n",
       "        [[12, 13],\n",
       "         [14, 15],\n",
       "         [16, 17]]])"
      ]
     },
     "execution_count": 59,
     "metadata": {},
     "output_type": "execute_result"
    }
   ],
   "source": [
    "a.view(3,3,2)"
   ]
  },
  {
   "cell_type": "markdown",
   "metadata": {},
   "source": [
    " the tensor object is stored strictly as a one dimensional array in memory. When we call `torch.view` we are able to choose how we are viewing the data in memory. So we can reshape any tensor array as long as the shape is made of multiples of len(tensor) and equals that length"
   ]
  },
  {
   "cell_type": "code",
   "execution_count": 60,
   "metadata": {},
   "outputs": [],
   "source": [
    "#if emb.view([32,6]).shape == torch.cat(torch.unbind(emb,1),1).shape:\n",
    "#    print(\"hooray\")\n"
   ]
  },
  {
   "cell_type": "code",
   "execution_count": 61,
   "metadata": {},
   "outputs": [
    {
     "data": {
      "text/plain": [
       "torch.Size([228146, 100])"
      ]
     },
     "execution_count": 61,
     "metadata": {},
     "output_type": "execute_result"
    }
   ],
   "source": [
    "# Now remember we have to account for possible differences in how many values ar in X. For the exmple we used 32, but the amount of input values may vary.\n",
    "# Using -1 -> pytorch will infer what it should be\n",
    "# Let's pass through the net!\n",
    "h = emb.view(-1,6) @ W1 +b1\n",
    "\n",
    "# Don't forget tanh activation function!\n",
    "h = torch.tanh(h)\n",
    "h.shape\n"
   ]
  },
  {
   "cell_type": "code",
   "execution_count": 62,
   "metadata": {},
   "outputs": [],
   "source": [
    "# Now the final layer!\n",
    "torch.manual_seed(SEED)\n",
    "W2 = torch.randn((100,27))\n",
    "b2 = torch.randn(27)"
   ]
  },
  {
   "cell_type": "markdown",
   "metadata": {},
   "source": [
    "## Logits\n",
    "Now we pass h (hidden) to the next layer where we will get the logits of the network\n",
    "\n",
    "What are logits - this is the raw, unnormalized( not between 0-1) output values. These are used particularly when you are applying a softmax function which will take the logits along a particular dimension and normalize them to be from values of 0-1 and sum to 1.\n",
    "$$logit(p) = log(\\frac{p}{1-p})$$\n",
    "\n",
    "$$softmax(z)_i = \\frac{e^{z_i}}{\\Sigma_{j=1}^{K}e^{z_j}}$$\n",
    "\n",
    "Next we have log counts. This refers to the logarithm of some count or frequency of data - this is useful when data spans over severl orders of magnitude. (text mining, bioinformatics)\n",
    "\n",
    "Logarithmic transformation ca help in these cased by reducing the range and dampening th effect of outliers or extreme values.\n",
    "\n",
    "It is important to not when taking the log of some count adding 1 will help account for count = 0 where log(0) is undefined.\n",
    "\n",
    "For us we already have the log counts (logits) and in order to move back to get the counts we simply exponentiate our value to undo the logarithmic transformation."
   ]
  },
  {
   "cell_type": "code",
   "execution_count": 63,
   "metadata": {},
   "outputs": [
    {
     "data": {
      "text/plain": [
       "tensor(18.8977)"
      ]
     },
     "execution_count": 63,
     "metadata": {},
     "output_type": "execute_result"
    }
   ],
   "source": [
    "# find the logits\n",
    "logits = h @ W2 +b2\n",
    "counts = logits.exp()\n",
    "prob = counts / counts.sum(1, keepdims=True)\n",
    "\n",
    "# Index into the rows of prob and pluck out the value of the probability assigned by to the correct character\n",
    "# Take the log of these probabilities, then find the mean over the whole dataset X, times -1 \n",
    "# This is how we find the negative log likelihood loss\n",
    "loss = -prob[torch.arange(emb.shape[0]),Y].log().mean()\n",
    "loss"
   ]
  },
  {
   "cell_type": "markdown",
   "metadata": {},
   "source": [
    "## Way Cool Let's put it all together!"
   ]
  },
  {
   "cell_type": "code",
   "execution_count": 64,
   "metadata": {},
   "outputs": [
    {
     "name": "stdout",
     "output_type": "stream",
     "text": [
      "Number of Parameters: 3481\n"
     ]
    }
   ],
   "source": [
    "\n",
    "# Create a generator for reproducability\n",
    "g = torch.Generator().manual_seed(SEED)\n",
    "\n",
    "# Build our parameters\n",
    "C = torch.randn((27,2), generator=g)\n",
    "W1 = torch.randn((6,100), generator=g)\n",
    "b1 = torch.randn(100, generator=g)\n",
    "W2 = torch.randn((100, 27), generator=g)\n",
    "b2 = torch.randn(27, generator=g)\n",
    "parameters = [C, W1, b1, W2, b2]\n",
    "\n",
    "print(f\"Number of Parameters: {sum(p.nelement() for p in parameters)}\")"
   ]
  },
  {
   "cell_type": "code",
   "execution_count": 65,
   "metadata": {},
   "outputs": [],
   "source": [
    "# Create a Learning Rate Scheduler\n",
    "lre = (torch.linspace(-3, 0, 1000))\n",
    "lrs = 10**lre\n"
   ]
  },
  {
   "cell_type": "code",
   "execution_count": 66,
   "metadata": {},
   "outputs": [],
   "source": [
    "for p in parameters:\n",
    "    p.requires_grad = True\n",
    "\n",
    "lri = []\n",
    "lossi = []\n",
    "epochs = 10000\n",
    "for epoch in range(epochs):\n",
    "# minibatch construct\n",
    "    ix = torch.randint(0, X.shape[0], (32,))\n",
    "\n",
    "    # Forward Pass\n",
    "    # Get the embed X into C\n",
    "    emb = C[X[ix]] # (32,3,2)\n",
    "    h = torch.tanh(emb.view(-1,6) @ W1 + b1) # (6,100)\n",
    "    logits = h @ W2 + b2 # (32,27)\n",
    "\n",
    "    # This is jst classification. F.cross_entropy(logits, Y) will perform the same operations more efficiently.\n",
    "    # counts = logits.exp()\n",
    "    # prob = counts / counts.sum(1, keepdims=True)\n",
    "    # loss = -prob[torch.arange(emb.shape[0]), Y].log().mean()\n",
    "    loss = F.cross_entropy(logits, Y[ix])\n",
    "\n",
    "    # Backward Pass\n",
    "    # Zero the parameter gradients\n",
    "    for p in parameters:\n",
    "        p.grad = None # Set optim.zero_grad()\n",
    "    # Update gradients\n",
    "    loss.backward()\n",
    "    # Update parameters by the newly calculated gradients\n",
    "    #lr = lrs[epoch]\n",
    "    lr = 10**-1\n",
    "    for p in parameters:\n",
    "        p.data += -lr * p.grad # 0.1 is the learning rate\n",
    "\n",
    "    # lri.append(lre[epoch])\n",
    "    # lossi.append(loss.item())\n",
    "    \n",
    "    #print(f\"Epoch: {epoch} | Loss: {loss}\")\n"
   ]
  },
  {
   "cell_type": "code",
   "execution_count": 67,
   "metadata": {},
   "outputs": [
    {
     "data": {
      "text/plain": [
       "'loss=tensor(2.4738, grad_fn=<NllLossBackward0>)'"
      ]
     },
     "execution_count": 67,
     "metadata": {},
     "output_type": "execute_result"
    }
   ],
   "source": [
    "emb = C[X]\n",
    "h = torch.tanh(emb.view(-1,6) @ W1 + b1)\n",
    "logits = h @ W2 + b2\n",
    "loss = F.cross_entropy(logits, Y)\n",
    "f\"{loss=}\""
   ]
  },
  {
   "cell_type": "code",
   "execution_count": 68,
   "metadata": {},
   "outputs": [],
   "source": [
    "# Looking for the best learning rate\n",
    "#plt.plot(lri, lossi)"
   ]
  },
  {
   "cell_type": "code",
   "execution_count": 69,
   "metadata": {},
   "outputs": [],
   "source": [
    "# training split, dev/validation split, test split\n",
    "# 80|10|10\n",
    "# Build the dataset\n",
    "\n",
    "def build_dataset(words):\n",
    "    block_size = 5 # context length: how many characters do we take to predict the next one?\n",
    "    X, Y = [], []\n",
    "    for w in words:\n",
    "        context = [0] * block_size\n",
    "        for ch in w + '.':\n",
    "            ix = stoi[ch]\n",
    "            X.append(context)\n",
    "            Y.append(ix)\n",
    "            context = context[1:] + [ix] # crop and append\n",
    "\n",
    "    X = torch.tensor(X)\n",
    "    Y = torch.tensor(Y)\n",
    "    return X, Y"
   ]
  },
  {
   "cell_type": "code",
   "execution_count": 70,
   "metadata": {},
   "outputs": [],
   "source": [
    "import random\n",
    "random.seed(SEED)\n",
    "random.shuffle(words)\n",
    "n1 = int(0.8*len(words))\n",
    "n2 = int(0.9*len(words))\n",
    "\n",
    "X_train, Y_train = build_dataset(words[:n1])\n",
    "X_val, Y_val = build_dataset(words[n1:n2])\n",
    "X_test, Y_test = build_dataset(words[n2:])\n"
   ]
  },
  {
   "cell_type": "markdown",
   "metadata": {},
   "source": [
    "#### Hyperbolic Tangent function\n",
    "\n",
    "### The Hyperbolic Tangent Function in Machine Learning\n",
    "\n",
    "The hyperbolic tangent function, often denoted as \\( \\tanh(x) \\), is a popular activation function used in machine learning, particularly in neural networks. The function maps any real-valued input to the range between -1 and 1, which can be useful for normalizing the output of the neurons.\n",
    "\n",
    "#### Formula:\n",
    "\n",
    "$$\\tanh(x) = \\frac{{e^x - e^{-x}}}{{e^x + e^{-x}}}$$\n",
    "\n",
    "#### Properties:\n",
    "\n",
    "1. **Non-linearity**: Despite being a smooth curve, it is non-linear. This means it can handle the complexities that arise during learning.\n",
    "2. **Centered at Zero**: Unlike the sigmoid function, whose output is in the range \\([0, 1]\\), the output of the hyperbolic tangent function is in the range \\([-1, 1]\\). This can make learning easier, as the mean of the outputs is centered around zero.\n",
    "3. **Smooth Function**: The function is differentiable, meaning we can find the derivative, which is essential for gradient-based optimization methods like gradient descent.\n",
    "4. **Vanishing Gradient**: Similar to the sigmoid function, the hyperbolic tangent function also suffers from the vanishing gradient problem, albeit to a lesser extent. For very high or very low values of \\( x \\), the function becomes almost flat, causing gradients to vanish.\n",
    "\n",
    "#### When to Use:\n",
    "\n",
    "The \\(\\tanh\\) function is commonly used in feed-forward neural networks and recurrent neural networks (RNNs), although it's less common in convolutional neural networks (CNNs) where ReLU and its variants have become more standard.\n",
    "\n",
    "##### Advantages:\n",
    "\n",
    "- Its output is zero-centered, making it easier for the model to learn from error.\n",
    "- It's non-linear, which means it can learn from the error and make adjustments, ideal for complex problem-solving.\n",
    "\n",
    "##### Disadvantages:\n",
    "\n",
    "- Like the sigmoid function, it can also suffer from the vanishing gradient problem, which can slow down the learning process.\n",
    "\n",
    "Overall, the hyperbolic tangent function is a good choice when you want your output to be bounded and zero-centered, and you're not overly concerned about the vanishing gradient problem."
   ]
  },
  {
   "cell_type": "code",
   "execution_count": 71,
   "metadata": {},
   "outputs": [],
   "source": [
    "import numpy as np\n",
    "# Need to keep track of the appropriate shape of emb\n",
    "\n",
    "# Create a generator for reproducability\n",
    "g = torch.Generator().manual_seed(SEED)\n",
    "\n",
    "# Build our parameters\n",
    "C = torch.randn((27,30), generator=g)\n",
    "W1 = torch.randn((150,200), generator=g)\n",
    "b1 = torch.randn(200, generator=g)\n",
    "W2 = torch.randn((200, 27), generator=g)\n",
    "b2 = torch.randn(27, generator=g)\n",
    "parameters = [C, W1, b1, W2, b2]\n",
    "\n",
    "\n",
    "for p in parameters:\n",
    "    p.requires_grad_(True)\n",
    "\n",
    "lossi = []\n",
    "stepsi = []\n",
    "\n",
    "epochs = 200000\n",
    "for epoch in range(epochs):\n",
    "    # minibatch construct\n",
    "    # By creating this random tensor of shape (32,) we can collect randomized mini batches of the training dataset\n",
    "    ix = torch.randint(0, X_train.shape[0], (32,))\n",
    "\n",
    "    # Forward Pass\n",
    "    # Get the embed X into C --> When we index X_train by the tensor ix (32,) we will generate a new list of shape (32,context_length)\n",
    "    # This new tensor will thenbe mapped to the values in C\n",
    "    emb = C[X_train[ix]] # \n",
    "    h = torch.tanh(emb.view(-1,W1.shape[0]) @ W1 + b1) # \n",
    "    logits = h @ W2 + b2 # \n",
    "\n",
    "    # This is jst classification. F.cross_entropy(logits, Y) will perform the same operations more efficiently.\n",
    "    # counts = logits.exp()\n",
    "    # prob = counts / counts.sum(1, keepdims=True)\n",
    "    # loss = -prob[torch.arange(emb.shape[0]), Y].log().mean()\n",
    "    loss = F.cross_entropy(logits, Y_train[ix])\n",
    "\n",
    "    # Backward Pass\n",
    "    # Zero the parameter gradients\n",
    "    for p in parameters:\n",
    "        p.grad = None # Set optim.zero_grad()\n",
    "    # Update gradients\n",
    "    loss.backward()\n",
    "    # Update parameters by the newly calculated gradients\n",
    "    lr_min = 10**-2\n",
    "    lr_max = 10**-1\n",
    "    lr = lr_min + ((lr_max - lr_min)/2)*(1+np.cos((epoch/epochs)*np.pi)) \n",
    "    #lr = 10**-1 if epoch < 50000 else 10**-2\n",
    "    for p in parameters:\n",
    "        p.data += -lr * p.grad # 0.1 is the learning rate\n",
    "\n",
    "    stepsi.append(epoch)\n",
    "    lossi.append(loss.log10().item())\n",
    "\n"
   ]
  },
  {
   "cell_type": "code",
   "execution_count": 72,
   "metadata": {},
   "outputs": [],
   "source": [
    "epochs = 200000\n",
    "for epoch in range(epochs):\n",
    "    # minibatch construct\n",
    "    # By creating this random tensor of shape (32,) we can collect randomized mini batches of the training dataset\n",
    "    ix = torch.randint(0, X_train.shape[0], (32,))\n",
    "\n",
    "    # Forward Pass\n",
    "    # Get the embed X into C --> When we index X_train by the tensor ix (32,) we will generate a new list of shape (32,context_length)\n",
    "    # This new tensor will thenbe mapped to the values in C\n",
    "    emb = C[X_train[ix]] # \n",
    "    h = torch.tanh(emb.view(-1,W1.shape[0]) @ W1 + b1) # \n",
    "    logits = h @ W2 + b2 # \n",
    "\n",
    "    # This is jst classification. F.cross_entropy(logits, Y) will perform the same operations more efficiently.\n",
    "    # counts = logits.exp()\n",
    "    # prob = counts / counts.sum(1, keepdims=True)\n",
    "    # loss = -prob[torch.arange(emb.shape[0]), Y].log().mean()\n",
    "    loss = F.cross_entropy(logits, Y_train[ix])\n",
    "\n",
    "    # Backward Pass\n",
    "    # Zero the parameter gradients\n",
    "    for p in parameters:\n",
    "        p.grad = None # Set optim.zero_grad()\n",
    "    # Update gradients\n",
    "    loss.backward()\n",
    "    # Update parameters by the newly calculated gradients\n",
    "    lr = 10**-3 if epoch < 50000 else 10**-3\n",
    "    for p in parameters:\n",
    "        p.data += -lr * p.grad # 0.1 is the learning rate\n",
    "\n",
    "    stepsi.append(epoch)\n",
    "    lossi.append(loss.log10().item())"
   ]
  },
  {
   "cell_type": "code",
   "execution_count": 73,
   "metadata": {},
   "outputs": [
    {
     "name": "stdout",
     "output_type": "stream",
     "text": [
      "Loss: 2.2918648719787598\n"
     ]
    }
   ],
   "source": [
    "print(f\"Loss: {loss.item()}\")"
   ]
  },
  {
   "cell_type": "code",
   "execution_count": 74,
   "metadata": {},
   "outputs": [
    {
     "data": {
      "text/plain": [
       "'loss=tensor(2.1997)'"
      ]
     },
     "execution_count": 74,
     "metadata": {},
     "output_type": "execute_result"
    }
   ],
   "source": [
    "# Evaluate\n",
    "with torch.inference_mode():\n",
    "    emb = C[X_val]\n",
    "    h = torch.tanh(emb.view(-1,W1.shape[0]) @ W1 + b1)\n",
    "    logits = h @ W2 + b2\n",
    "    loss = F.cross_entropy(logits, Y_val)\n",
    "f\"{loss=}\""
   ]
  },
  {
   "cell_type": "code",
   "execution_count": 75,
   "metadata": {},
   "outputs": [
    {
     "data": {
      "image/png": "[encoded data removed]",
      "text/plain": [
       "<Figure size 640x480 with 1 Axes>"
      ]
     },
     "metadata": {},
     "output_type": "display_data"
    }
   ],
   "source": [
    "plt.title(\"Loss per Step\")\n",
    "plt.plot(stepsi, lossi);"
   ]
  },
  {
   "cell_type": "code",
   "execution_count": 76,
   "metadata": {},
   "outputs": [
    {
     "data": {
      "image/png": "[encoded data removed]",
      "text/plain": [
       "<Figure size 800x800 with 1 Axes>"
      ]
     },
     "metadata": {},
     "output_type": "display_data"
    }
   ],
   "source": [
    "# View the embedding space\n",
    "plt.figure(figsize=(8,8))\n",
    "plt.scatter(C[:,0].data, C[:,1].data, s=200)\n",
    "for i in range(C.shape[0]):\n",
    "    plt.text(C[i,0].item(), C[i, 1].item(), itos[i], ha=\"center\", va=\"center\", color=\"white\")\n",
    "plt.grid('minor')"
   ]
  },
  {
   "cell_type": "markdown",
   "metadata": {},
   "source": [
    "## Sampling in a Next Token Prediction Model\n",
    "\n",
    "When working with next-token prediction models, the initial context vector plays a critical role. Typically, this context vector is initialized to a specific state, such as an array of zeros or a \"start-of-sequence\" token.\n",
    "\n",
    "### The Power of Embedding\n",
    "\n",
    "The concept of embedding transforms a discrete set of tokens into a continuous vector space. This transition from a discrete to a continuous representation is not only fascinating but also opens doors to uncover complex relationships between tokens.\n",
    "\n",
    "#### Vocabulary Mapping\n",
    "\n",
    "Before feeding the data into the model, we usually map the vocabulary to integers in a process known as tokenization. In this example, the character set comprises 27 discrete characters (`a-z` and `.`), each mapped to a unique integer.\n",
    "\n",
    "#### Continuous Hyperspace\n",
    "\n",
    "Once the tokens are in a continuous space, we gain the ability to capture nuanced relationships among them. The high-dimensional nature of this space — often referred to as \"continuous hyperspace\" — allows for feature mapping that can elegantly model the similarity between contexts based on their proximity in this space.\n",
    "\n",
    "#### Why Does This Matter?\n",
    "\n",
    "By embedding our tokens into a high-dimensional space, we gain the advantage of being able to calculate various similarity measures (e.g., cosine similarity, Euclidean distance) between contexts. These measures can provide insights into the relationships between different contexts, thereby aiding in better model predictions.\n",
    "\n",
    "### Forward Pass\n",
    "\n",
    "After embedding the tokens into a continuous space, the next step is to pass these embeddings through the neural network. During this forward pass, the model computes logits for each potential next token in the vocabulary.\n",
    "\n",
    "#### Softmax Normalization\n",
    "\n",
    "We then normalize these logits using a softmax function, which converts the logits into probabilities. The softmax function ensures that the sum of the probabilities for all possible next tokens equals 1.\n",
    "\n",
    "#### Sampling using `torch.multinomial`\n",
    "\n",
    "Finally, to generate the next token, we sample from this probability distribution. The `torch.multinomial` function in PyTorch is commonly used for this. It takes the softmax output and selects a token index based on the probabilities. The sampled index can then be converted back into its corresponding token using our initial vocabulary mapping.\n",
    "\n",
    "#### Why `torch.multinomial`?\n",
    "\n",
    "The advantage of using `torch.multinomial` over other sampling methods (like `argmax`) is that it allows the model to introduce variability in its generated sequences. Instead of always picking the most probable next token, `torch.multinomial` samples based on the given probability distribution, introducing an element of randomness that makes the model's output more dynamic and versatile. This function takes a vector in continuous space and returns an integer in discrete space.\n",
    "\n",
    "#### How does `torch.multinomial` do this?\n",
    "\n",
    "The output predictions acquired by the forward pass give us what is called a multinomial distribution (this is the multi catagorical probabilities of each possible token). In order to sample from this distribution we use this function which in fact utilizes a 'Cumulative Distribution Function (CDF)' of the prediction probabilities.\n",
    "\n",
    "#### How does CDF work?\n",
    "\n",
    "In a Cumulative Distribution Function (CDF) for a discrete random variable (like a multinomial distribution), each entry at index i of the CDF is the sum of all probabilities from index 0 to i in the original probability distribution. The last entry of the CDF will always be 1, representing the total probability.\n",
    "\n",
    "When you sample a random number between 0 and 1, you can then use this CDF to determine which category gets selected. Categories with higher probabilities will indeed have wider \"gaps\" in the CDF, making it more likely that a random number will fall within that gap.\n",
    "\n",
    "In other words, the CDF allows you to maintain the original probability distribution (ensuring that outcomes with higher probabilities are more likely to be selected) while still introducing a degree of randomness in the selection process.\n"
   ]
  },
  {
   "cell_type": "code",
   "execution_count": 77,
   "metadata": {},
   "outputs": [
    {
     "name": "stdout",
     "output_type": "stream",
     "text": [
      "tonis.\n",
      "jescariel.\n",
      "xamiye.\n",
      "dirrech.\n",
      "norei.\n",
      "cimenzia.\n",
      "macyn.\n",
      "liral.\n",
      "jir.\n",
      "sekardon.\n"
     ]
    }
   ],
   "source": [
    "# Sample from the model\n",
    "# g = torch.Generator().manual_seed(SEED+10)\n",
    "block_size = 5\n",
    "for _ in range(10):\n",
    "    out = []\n",
    "    context = [0] * block_size # initialize word\n",
    "    while True:\n",
    "        emb = C[torch.tensor([context])] # (1,block_size,d)\n",
    "        h = torch.tanh(emb.view(1,-1) @ W1 + b1)\n",
    "        logits = h @ W2 + b2\n",
    "        probs = F.softmax(logits, dim=1)\n",
    "        ix = torch.multinomial(probs, num_samples=1,generator=None).item()\n",
    "        context = context[1:] + [ix]\n",
    "        out.append(ix)\n",
    "        if ix == 0 :\n",
    "            break\n",
    "    print(''.join(itos[i] for i in out))"
   ]
  }
 ],
 "metadata": {
  "kernelspec": {
   "display_name": "Python 3",
   "language": "python",
   "name": "python3"
  },
  "language_info": {
   "codemirror_mode": {
    "name": "ipython",
    "version": 3
   },
   "file_extension": ".py",
   "mimetype": "text/x-python",
   "name": "python",
   "nbconvert_exporter": "python",
   "pygments_lexer": "ipython3",
   "version": "3.10.12"
  }
 },
 "nbformat": 4,
 "nbformat_minor": 2
}
